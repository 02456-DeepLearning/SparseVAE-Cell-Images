{
 "cells": [
  {
   "cell_type": "markdown",
   "metadata": {},
   "source": [
    "# <center> Paper Experimental Results </center>\n",
    "\n",
    "We provide in this notebook a set of routines to generate and reproduce the plots observed in the original paper. "
   ]
  },
  {
   "cell_type": "code",
   "execution_count": 8,
   "metadata": {},
   "outputs": [
    {
     "data": {
      "text/plain": [
       "<torch._C.Generator at 0x7f73e006de70>"
      ]
     },
     "execution_count": 8,
     "metadata": {},
     "output_type": "execute_result"
    }
   ],
   "source": [
    "# Libraries \n",
    "import os\n",
    "import torch\n",
    "import argparse\n",
    "import numpy as np\n",
    "from glob import glob\n",
    "import torch.utils.data\n",
    "from torch import nn, optim\n",
    "import matplotlib.pyplot as plt\n",
    "from torch.nn import functional as F\n",
    "from torchvision import datasets, transforms\n",
    "from torchvision.utils import save_image\n",
    "%matplotlib inline\n",
    "\n",
    "#Set reproducibility seeed\n",
    "torch.manual_seed(1)"
   ]
  },
  {
   "cell_type": "markdown",
   "metadata": {},
   "source": [
    "## VLB Evaluation\n",
    "The point of this experiment is to evaluate the Variational Lower Bound (VLB) for our Variational Sparse Coding (VSC) model given different sparcity values  $\\alpha$, also for a Variational Autoencoder (VAE) for varying number of latent dimension. \n",
    "\n",
    "The following commands were executed in order to obtain the trained models needed for our future plots. \n",
    "\n",
    "### Mnist \n",
    "\n",
    "- ** python vae-mnist.py --log-interval 100 --latent 20 **\n",
    "- ** python vae-mnist.py --log-interval 100 --latent 50 **\n",
    "- ** python vae-mnist.py --log-interval 100 --latent 75 **\n",
    "- ** python vae-mnist.py --log-interval 100 --latent 100 **\n",
    "- ** python vae-mnist.py --log-interval 100 --latent 150 **\n",
    "- ** python vae-mnist.py --log-interval 100 --latent 200 **\n",
    "\n",
    "\n",
    "- ** python vsc-mnist.py --log-interval 100 --latent 20 --alpha 0.5**\n",
    "- ** python vsc-mnist.py --log-interval 100 --latent 50 --alpha 0.5**\n",
    "- ** python vsc-mnist.py --log-interval 100 --latent 75 --alpha 0.5**\n",
    "- ** python vsc-mnist.py --log-interval 100 --latent 100 --alpha 0.5**\n",
    "- ** python vsc-mnist.py --log-interval 100 --latent 150 --alpha 0.5**\n",
    "- ** python vsc-mnist.py --log-interval 100 --latent 200 --alpha 0.5**\n",
    "\n",
    "\n",
    "- ** python vsc-mnist.py --log-interval 100 --latent 20 --alpha 0.2**\n",
    "- ** python vsc-mnist.py --log-interval 100 --latent 50 --alpha 0.2**\n",
    "- ** python vsc-mnist.py --log-interval 100 --latent 75 --alpha 0.2**\n",
    "- ** python vsc-mnist.py --log-interval 100 --latent 100 --alpha 0.2**\n",
    "- ** python vsc-mnist.py --log-interval 100 --latent 150 --alpha 0.2**\n",
    "- ** python vsc-mnist.py --log-interval 100 --latent 200 --alpha 0.2**\n",
    "\n",
    "\n",
    "## Observations:\n",
    "\n",
    "- We trained the model for a total of **500** epochs over the whole training set (**60000** 28x28 images) using a batch size of **128**. In other words, which is equivalent to a total number of $\\frac{60K \\times 500}{128} \\approx 234000$. It worths noting that in the original paper however, the authors considered a limit of **20000** iterations (total number of batches) using a batch size of **32**."
   ]
  },
  {
   "cell_type": "code",
   "execution_count": 9,
   "metadata": {
    "collapsed": true
   },
   "outputs": [],
   "source": [
    "# VAE model \n",
    "class VAE(nn.Module):\n",
    "    def __init__(self, latent ):\n",
    "        super(VAE, self).__init__()\n",
    "        self.fc1 = nn.Linear(784, 400)\n",
    "        self.fc21 = nn.Linear(400, latent)\n",
    "        self.fc22 = nn.Linear(400, latent)\n",
    "        self.fc3 = nn.Linear(latent, 400)\n",
    "        self.fc4 = nn.Linear(400, 784)\n",
    "\n",
    "    def encode(self, x):\n",
    "        #Recognition function\n",
    "        h1 = F.relu(self.fc1(x))\n",
    "        return self.fc21(h1), self.fc22(h1)\n",
    "\n",
    "    def reparameterize(self, mu, logvar):\n",
    "        std = torch.exp(0.5*logvar)\n",
    "        eps = torch.randn_like(std)\n",
    "        return eps.mul(std).add_(mu)\n",
    "\n",
    "    def decode(self, z):\n",
    "        #Likelihood function\n",
    "        h3 = F.relu(self.fc3(z))\n",
    "        return torch.sigmoid(self.fc4(h3))\n",
    "\n",
    "    def forward(self, x):\n",
    "        mu, logvar = self.encode(x.view(-1, 784))\n",
    "        z = self.reparameterize(mu, logvar)\n",
    "        return self.decode(z), mu, logvar\n",
    "    \n",
    "# VSC Model \n",
    "class VSC(nn.Module):\n",
    "    def __init__(self, latent):\n",
    "        super(VSC, self).__init__()\n",
    "        self.c = 50.0 \n",
    "        self.fc1 = nn.Linear(784, 400)\n",
    "        self.fc21 = nn.Linear(400, latent )\n",
    "        self.fc22 = nn.Linear(400, latent)\n",
    "        self.fc23 = nn.Linear(400, latent)\n",
    "        self.fc3 = nn.Linear(latent, 400)\n",
    "        self.fc4 = nn.Linear(400, 784)\n",
    "\n",
    "    def encode(self, x):\n",
    "        #Recognition function\n",
    "        h1 = F.relu(self.fc1(x))\n",
    "        return self.fc21(h1), self.fc22(h1), -F.relu(-self.fc23(h1))\n",
    "\n",
    "    def reparameterize(self, mu, logvar, logspike ):\n",
    "        std = torch.exp(0.5*logvar)\n",
    "        eps = torch.randn_like(std)\n",
    "        gaussian = eps.mul(std).add_(mu)\n",
    "        eta = torch.rand_like(std)\n",
    "        selection = F.sigmoid(self.c*(eta + logspike.exp() - 1))\n",
    "        return selection.mul(gaussian)\n",
    "\n",
    "    def decode(self, z):\n",
    "        #Likelihood function\n",
    "        h3 = F.relu(self.fc3(z))\n",
    "        return torch.sigmoid(self.fc4(h3))\n",
    "\n",
    "    def forward(self, x):\n",
    "        mu, logvar, logspike = self.encode(x.view(-1, 784))\n",
    "        z = self.reparameterize(mu, logvar, logspike)\n",
    "        return self.decode(z), mu, logvar, logspike"
   ]
  },
  {
   "cell_type": "code",
   "execution_count": 30,
   "metadata": {
    "collapsed": true
   },
   "outputs": [],
   "source": [
    "# Load pretrained models\n",
    "\n",
    "## VAE\n",
    "vae_mnist_model_20 = VAE(20)\n",
    "vae_mnist_model_20.load_state_dict(torch.load('../src/models/vae_mnist_1_500_20_0-001_500_.pth'))\n",
    "\n",
    "vae_mnist_model_50 = VAE(50)\n",
    "vae_mnist_model_50.load_state_dict(torch.load('../src/models/vae_mnist_1_500_50_0-001_500_.pth'))\n",
    "\n",
    "vae_mnist_model_75 = VAE(75)\n",
    "vae_mnist_model_75.load_state_dict(torch.load('../src/models/vae_mnist_1_500_75_0-001_500_.pth'))\n",
    "\n",
    "vae_mnist_model_100 = VAE(100)\n",
    "vae_mnist_model_100.load_state_dict(torch.load('../src/models/vae_mnist_1_500_100_0-001_500_.pth'))\n",
    "\n",
    "vae_mnist_model_150 = VAE(150)\n",
    "vae_mnist_model_150.load_state_dict(torch.load('../src/models/vae_mnist_1_500_150_0-001_500_.pth'))\n",
    "\n",
    "vae_mnist_model_200 = VAE(200)\n",
    "vae_mnist_model_200.load_state_dict(torch.load('../src/models/vae_mnist_1_500_200_0-001_500_.pth'))\n",
    "\n",
    "## VSC - alpha = 0.5\n",
    "vsc_mnist_model_20_05 = VSC(20)\n",
    "vsc_mnist_model_20_05.load_state_dict(torch.load('../src/models/vsc_mnist_1_500_20_0-001_0.5_500_.pth'))\n",
    "\n",
    "vsc_mnist_model_50_05 = VSC(50)\n",
    "vsc_mnist_model_50_05.load_state_dict(torch.load('../src/models/vsc_mnist_1_500_50_0-001_0.5_500_.pth'))\n",
    "\n",
    "vsc_mnist_model_75_05 = VSC(75)\n",
    "vsc_mnist_model_75_05.load_state_dict(torch.load('../src/models/vsc_mnist_1_500_75_0-001_0.5_500_.pth'))\n",
    "\n",
    "vsc_mnist_model_100_05 = VSC(100)\n",
    "vsc_mnist_model_100_05.load_state_dict(torch.load('../src/models/vsc_mnist_1_500_100_0-001_0.5_500_.pth'))\n",
    "\n",
    "vsc_mnist_model_150_05 = VSC(150)\n",
    "vsc_mnist_model_150_05.load_state_dict(torch.load('../src/models/vsc_mnist_1_500_150_0-001_0.5_500_.pth'))\n",
    "\n",
    "vsc_mnist_model_200_05 = VSC(200)\n",
    "vsc_mnist_model_200_05.load_state_dict(torch.load('../src/models/vsc_mnist_1_500_200_0-001_0.5_500_.pth'))\n",
    "\n"
   ]
  },
  {
   "cell_type": "code",
   "execution_count": 31,
   "metadata": {},
   "outputs": [
    {
     "data": {
      "image/png": "[encoded data removed]",
      "text/plain": [
       "<matplotlib.figure.Figure at 0x7f7384387748>"
      ]
     },
     "metadata": {},
     "output_type": "display_data"
    }
   ],
   "source": [
    "# Auxiliary Functions to plot \n",
    "def show(img):\n",
    "    npimg = img.detach().numpy()\n",
    "    plt.imshow(npimg, interpolation='nearest')\n",
    "    \n",
    "#Plot random decoded gaussian vector\n",
    "show( vae_mnist_model_20.decode( torch.randn(20)).view(28,28) ) "
   ]
  },
  {
   "cell_type": "code",
   "execution_count": 32,
   "metadata": {},
   "outputs": [],
   "source": [
    "# Load test data\n",
    "BATCH_SIZE = 32\n",
    "\n",
    "## MNIST\n",
    "mnist_test_loader = torch.utils.data.DataLoader(\n",
    "                        datasets.MNIST('../data/mnist', train=False, transform=transforms.ToTensor()),\n",
    "                        batch_size=BATCH_SIZE, shuffle=True)\n",
    "\n",
    "## FASHION\n",
    "mnist_test_loader = torch.utils.data.DataLoader(\n",
    "                        datasets.MNIST('../data/mnist', train=False, transform=transforms.ToTensor()),\n",
    "                        batch_size=BATCH_SIZE, shuffle=True)\n",
    "\n",
    "# Loss functions\n",
    "def loss_vae(x, recon_x, mu, logvar):\n",
    "    BCE = F.binary_cross_entropy(recon_x, x.view(-1, 784), size_average = False)\n",
    "    KLD = -0.5 * torch.sum(1 + logvar - mu.pow(2) - logvar.exp())\n",
    "    return BCE + KLD\n",
    "\n",
    "def loss_vsc(alpha):\n",
    "    \n",
    "    def loss_vsc_(x, recon_x,  mu, logvar, logspike):\n",
    "        \n",
    "        BCE = F.binary_cross_entropy(recon_x, x.view(-1, 784), size_average = False)\n",
    "        spyke = torch.clamp( logspike.exp() , 1e-6 , 1.0 - 1e-6 )\n",
    "        PRIOR = -0.5 * torch.sum( spyke.mul(1 + logvar - mu.pow(2) - logvar.exp()))  + \\\n",
    "                torch.sum( (1-spyke).mul(torch.log((1-spyke)/(1 - alpha))) + \\\n",
    "                spyke.mul(torch.log(spyke/alpha) ) )\n",
    "        return BCE + PRIOR\n",
    "        \n",
    "    return loss_vsc_\n",
    "\n",
    "# VLB reporting\n",
    "def vlb(model, test_loader, loss_function ):\n",
    "    model.eval()\n",
    "    test_loss = 0\n",
    "    with torch.no_grad():\n",
    "        for i, (data, _) in enumerate(test_loader):\n",
    "            kwargs = model(data)\n",
    "            test_loss += loss_function(data , *kwargs ).item()\n",
    "    return test_loss / (i+1)"
   ]
  },
  {
   "cell_type": "code",
   "execution_count": 33,
   "metadata": {},
   "outputs": [],
   "source": [
    "# Evaluate VLB  for each model \n",
    "\n",
    "## MNIST - VAE\n",
    "mnist_vae_vlb = []\n",
    "mnist_vae_vlb.append( vlb(vae_mnist_model_20, mnist_test_loader, loss_vae ) )\n",
    "mnist_vae_vlb.append( vlb(vae_mnist_model_50, mnist_test_loader, loss_vae ) )\n",
    "mnist_vae_vlb.append( vlb(vae_mnist_model_75, mnist_test_loader, loss_vae ) )\n",
    "mnist_vae_vlb.append( vlb(vae_mnist_model_100, mnist_test_loader, loss_vae ) )\n",
    "mnist_vae_vlb.append( vlb(vae_mnist_model_150, mnist_test_loader, loss_vae ) )\n",
    "mnist_vae_vlb.append( vlb(vae_mnist_model_200, mnist_test_loader, loss_vae ) )\n",
    "\n",
    "## MNIST - VSC - alpha = 0.5\n",
    "mnist_vsc_vlb_05 = []\n",
    "mnist_vsc_vlb_05.append( vlb(vsc_mnist_model_20_05, mnist_test_loader, loss_vsc(0.5) ) )\n",
    "mnist_vsc_vlb_05.append( vlb(vsc_mnist_model_50_05, mnist_test_loader, loss_vsc(0.5) ) )\n",
    "mnist_vsc_vlb_05.append( vlb(vsc_mnist_model_75_05, mnist_test_loader, loss_vsc(0.5) ) )\n",
    "mnist_vsc_vlb_05.append( vlb(vsc_mnist_model_100_05, mnist_test_loader, loss_vsc(0.5) ) )\n",
    "mnist_vsc_vlb_05.append( vlb(vsc_mnist_model_150_05, mnist_test_loader, loss_vsc(0.5) ) )\n",
    "mnist_vsc_vlb_05.append( vlb(vsc_mnist_model_200_05, mnist_test_loader, loss_vsc(0.5) ) )\n"
   ]
  },
  {
   "cell_type": "code",
   "execution_count": 34,
   "metadata": {},
   "outputs": [
    {
     "data": {
      "text/plain": [
       "<matplotlib.legend.Legend at 0x7f737fde3e48>"
      ]
     },
     "execution_count": 34,
     "metadata": {},
     "output_type": "execute_result"
    },
    {
     "data": {
      "image/png": "[encoded data removed]",
      "text/plain": [
       "<matplotlib.figure.Figure at 0x7f737fe44400>"
      ]
     },
     "metadata": {},
     "output_type": "display_data"
    }
   ],
   "source": [
    "# Plot VLB evaluations\n",
    "x = [20, 50, 75, 100, 150, 200  ]\n",
    "plt.figure(figsize = (12, 7))\n",
    "plt.title('VLB Evaluations', fontsize = 20 )\n",
    "plt.plot( x , mnist_vae_vlb, label = 'VAE' )\n",
    "plt.plot( x , mnist_vsc_vlb_05, label = r'VSC ($\\alpha$= 0.5)' )\n",
    "plt.ylabel('VLB', fontsize = 15)\n",
    "plt.xlabel('Latent Space Dimension', fontsize = 15)\n",
    "plt.legend(loc='best', fontsize = 15)"
   ]
  },
  {
   "cell_type": "code",
   "execution_count": null,
   "metadata": {
    "collapsed": true
   },
   "outputs": [],
   "source": []
  }
 ],
 "metadata": {
  "kernelspec": {
   "display_name": "Python 3",
   "language": "python",
   "name": "python3"
  },
  "language_info": {
   "codemirror_mode": {
    "name": "ipython",
    "version": 3
   },
   "file_extension": ".py",
   "mimetype": "text/x-python",
   "name": "python",
   "nbconvert_exporter": "python",
   "pygments_lexer": "ipython3",
   "version": "3.6.3"
  }
 },
 "nbformat": 4,
 "nbformat_minor": 2
}
